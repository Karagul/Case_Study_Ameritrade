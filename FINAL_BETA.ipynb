{
 "cells": [
  {
   "cell_type": "code",
   "execution_count": 1,
   "metadata": {},
   "outputs": [],
   "source": [
    "import numpy as np\n",
    "import pandas as pd\n",
    "import matplotlib.pyplot as plt\n",
    "import statsmodels.api as sm\n",
    "from statsmodels import regression\n",
    "import seaborn as sns\n",
    "sns.set(color_codes=True)\n",
    "%matplotlib inline"
   ]
  },
  {
   "cell_type": "code",
   "execution_count": 2,
   "metadata": {},
   "outputs": [],
   "source": [
    "# CS92_96 = pd.read_csv('CS_92-96.csv', header=0, sep=';', index_col=\"Dates\", parse_dates=True)\n",
    "CS87_97 = pd.read_csv('CS_87-97.csv', header=0, sep=';', index_col=\"Dates\", parse_dates=True).dropna()\n",
    "# QR92_96 = pd.read_csv('QR_92-96.csv', header=0, sep=';', index_col=\"Dates\", parse_dates=True)\n",
    "QR84_97 = pd.read_csv('QR_84-97.csv', header=0, sep=';', index_col=\"Dates\", parse_dates=True)\n",
    "# WI92_96 = pd.read_csv('WI_92-96.csv', header=0, sep=';', index_col=\"Dates\", parse_dates=True)\n",
    "WI87_96 = pd.read_csv('WI_87-96.csv', header=0, sep=';', index_col=\"Dates\", parse_dates=True)\n",
    "AGE84_97 = pd.read_csv('AGE_84-97.csv', header=0, sep=';', index_col=\"Dates\", parse_dates=True)\n",
    "RJS84_97 = pd.read_csv('RJS_84-97.csv', header=0, sep=';', index_col=\"Dates\", parse_dates=True)"
   ]
  },
  {
   "cell_type": "code",
   "execution_count": 3,
   "metadata": {},
   "outputs": [],
   "source": [
    "# X = CS92_96['VW mrkt returns']\n",
    "# Y = CS92_96['Returns 92-96']\n",
    "# X1 = sm.add_constant(X)\n",
    "# model = sm.OLS(Y, X1).fit()\n",
    "# Beta, RSquared = model.params[1], model.rsquared\n",
    "\n",
    "# results = {'Beta': Beta, 'RSquared': RSquared}\n",
    "# RESULTS5YEARS = pd.DataFrame(data=results, index=['Charles Schwab 92-96'])"
   ]
  },
  {
   "cell_type": "code",
   "execution_count": 4,
   "metadata": {},
   "outputs": [],
   "source": [
    "X = CS87_97['VW mrkt returns']\n",
    "Y = CS87_97['Returns 87-97']\n",
    "X1 = sm.add_constant(X)\n",
    "model = sm.OLS(Y, X1).fit()\n",
    "Beta, RSquared = model.params[1], model.rsquared\n",
    "\n",
    "results = {'Beta': Beta, 'RSquared': RSquared}\n",
    "RESULTS = pd.DataFrame(data=results, index=['Charles Schwab 87-97'])"
   ]
  },
  {
   "cell_type": "code",
   "execution_count": 5,
   "metadata": {},
   "outputs": [],
   "source": [
    "# X = QR92_96['VW mrkt returns']\n",
    "# Y = QR92_96['Returns 92-96']\n",
    "# X1 = sm.add_constant(X)\n",
    "# model = sm.OLS(Y, X1).fit()\n",
    "# Beta, RSquared = model.params[1], model.rsquared\n",
    "\n",
    "# results = {'Beta': Beta, 'RSquared': RSquared}\n",
    "# RESULTS2 = pd.DataFrame(data=results, index=['Quick & Reilly 92-96'])\n",
    "# RESULTS5YEARS = RESULTS5YEARS.append(RESULTS2)"
   ]
  },
  {
   "cell_type": "code",
   "execution_count": 6,
   "metadata": {},
   "outputs": [],
   "source": [
    "X = QR84_97['VW mrkt returns ']\n",
    "Y = QR84_97['Returns 84-97']\n",
    "X1 = sm.add_constant(X)\n",
    "model = sm.OLS(Y, X1).fit()\n",
    "Beta, RSquared = model.params[1], model.rsquared\n",
    "\n",
    "results = {'Beta': Beta, 'RSquared': RSquared}\n",
    "RESULTS2 = pd.DataFrame(data=results, index=['Quick & Reilly 84-97'])\n",
    "RESULTS = RESULTS.append(RESULTS2)"
   ]
  },
  {
   "cell_type": "code",
   "execution_count": 7,
   "metadata": {},
   "outputs": [],
   "source": [
    "# X = WI92_96['VW mrkt returns']\n",
    "# Y = WI92_96['Returns 92-96']\n",
    "# X1 = sm.add_constant(X)\n",
    "# model = sm.OLS(Y, X1).fit()\n",
    "# Beta, RSquared = model.params[1], model.rsquared\n",
    "\n",
    "# results = {'Beta': Beta, 'RSquared': RSquared}\n",
    "# RESULTS2 = pd.DataFrame(data=results, index=['Waterhouse Investor 92-96'])\n",
    "# RESULTS5YEARS = RESULTS5YEARS.append(RESULTS2)"
   ]
  },
  {
   "cell_type": "code",
   "execution_count": 8,
   "metadata": {},
   "outputs": [],
   "source": [
    "X = WI87_96['VW mrkt returns']\n",
    "Y = WI87_96['Returns 87-96']\n",
    "X1 = sm.add_constant(X)\n",
    "model = sm.OLS(Y, X1).fit()\n",
    "Beta, RSquared = model.params[1], model.rsquared\n",
    "\n",
    "results = {'Beta': Beta, 'RSquared': RSquared}\n",
    "RESULTS2 = pd.DataFrame(data=results, index=['Waterhouse Investor 87-96'])\n",
    "RESULTS = RESULTS.append(RESULTS2)"
   ]
  },
  {
   "cell_type": "code",
   "execution_count": 9,
   "metadata": {},
   "outputs": [],
   "source": [
    "X = AGE84_97['VW Market returns']\n",
    "Y = AGE84_97['Returns 84-97']\n",
    "X1 = sm.add_constant(X)\n",
    "model = sm.OLS(Y, X1).fit()\n",
    "Beta, RSquared = model.params[1], model.rsquared\n",
    "\n",
    "results = {'Beta': Beta, 'RSquared': RSquared}\n",
    "RESULTS2 = pd.DataFrame(data=results, index=['AG Edwards 84-97'])\n",
    "RESULTS = RESULTS.append(RESULTS2)"
   ]
  },
  {
   "cell_type": "code",
   "execution_count": 10,
   "metadata": {},
   "outputs": [],
   "source": [
    "X = RJS84_97['VW Market returns']\n",
    "Y = RJS84_97['Returns 84-97']\n",
    "X1 = sm.add_constant(X)\n",
    "model = sm.OLS(Y, X1).fit()\n",
    "Beta, RSquared = model.params[1], model.rsquared\n",
    "\n",
    "results = {'Beta': Beta, 'RSquared': RSquared}\n",
    "RESULTS2 = pd.DataFrame(data=results, index=['Raymond James 84-97'])\n",
    "RESULTS = RESULTS.append(RESULTS2)\n",
    "RESULTS = RESULTS.round(4)"
   ]
  },
  {
   "cell_type": "code",
   "execution_count": 11,
   "metadata": {},
   "outputs": [],
   "source": [
    "# def highlight_min(s):\n",
    "#     is_min = s == s.min()\n",
    "#     return ['background-color: orange' if v else '' for v in is_min]\n",
    "# def highlight_max(s):\n",
    "#     is_max = s == s.max()\n",
    "#     return ['background-color: yellow' if v else '' for v in is_max]"
   ]
  },
  {
   "cell_type": "code",
   "execution_count": 12,
   "metadata": {},
   "outputs": [],
   "source": [
    "# RESULTS = RESULTS.style.apply(highlight_min, subset=pd.IndexSlice[:, 'Beta']).apply(highlight_max, subset=pd.IndexSlice[:, 'RSquared'])"
   ]
  },
  {
   "cell_type": "code",
   "execution_count": 13,
   "metadata": {},
   "outputs": [],
   "source": [
    "ameritrade_beta = {'Beta': RESULTS['Beta'][:3].mean()}\n",
    "AMERITRADE = pd.DataFrame(data=ameritrade_beta, index=['AMERITRADE (w/out investment firms)'])"
   ]
  },
  {
   "cell_type": "code",
   "execution_count": 14,
   "metadata": {},
   "outputs": [],
   "source": [
    "ameritrade_beta = {'Beta': RESULTS['Beta'].mean()}\n",
    "AMERITRADE2 = pd.DataFrame(data=ameritrade_beta, index=['AMERITRADE (with investment firms)'])\n",
    "AMERITRADE = AMERITRADE.append(AMERITRADE2)\n",
    "AMERITRADE = AMERITRADE.round(4)"
   ]
  },
  {
   "cell_type": "code",
   "execution_count": 15,
   "metadata": {},
   "outputs": [],
   "source": [
    "def CAPM(rf, beta, rm):\n",
    "    return rf + beta * (rm - rf)"
   ]
  },
  {
   "cell_type": "code",
   "execution_count": 16,
   "metadata": {},
   "outputs": [],
   "source": [
    "CAPMresults = {'Small cap = 17.8%': CAPM(0.0634, AMERITRADE['Beta'][0], 0.178),\\\n",
    "               'Mid cap = 15.9%': CAPM(0.0634, AMERITRADE['Beta'][0], (0.14+0.178)/2),\\\n",
    "               'Large cap = 14.0%': CAPM(0.0634, AMERITRADE['Beta'][0], 0.14)}\n",
    "Expected_Returns = pd.DataFrame(data=CAPMresults, index=['Cost of Capital (w/out investment firms)'])"
   ]
  },
  {
   "cell_type": "code",
   "execution_count": 17,
   "metadata": {},
   "outputs": [],
   "source": [
    "CAPMresults = {'Small cap = 17.8%': CAPM(0.0634, AMERITRADE['Beta'][1], 0.178),\\\n",
    "               'Mid cap = 15.9%': CAPM(0.0634, AMERITRADE['Beta'][1], (0.14+0.178)/2),\\\n",
    "               'Large cap = 14.0%': CAPM(0.0634, AMERITRADE['Beta'][1], 0.14)}\n",
    "Expected_Returns2 = pd.DataFrame(data=CAPMresults, index=['Cost of capital (with investment firms)'])\n",
    "Expected_Returns = Expected_Returns.append(Expected_Returns2)\n",
    "Expected_Returns = Expected_Returns.round(4)"
   ]
  },
  {
   "cell_type": "code",
   "execution_count": 18,
   "metadata": {
    "scrolled": false
   },
   "outputs": [
    {
     "data": {
      "text/html": [
       "<div>\n",
       "<style scoped>\n",
       "    .dataframe tbody tr th:only-of-type {\n",
       "        vertical-align: middle;\n",
       "    }\n",
       "\n",
       "    .dataframe tbody tr th {\n",
       "        vertical-align: top;\n",
       "    }\n",
       "\n",
       "    .dataframe thead th {\n",
       "        text-align: right;\n",
       "    }\n",
       "</style>\n",
       "<table border=\"1\" class=\"dataframe\">\n",
       "  <thead>\n",
       "    <tr style=\"text-align: right;\">\n",
       "      <th></th>\n",
       "      <th>Beta</th>\n",
       "      <th>RSquared</th>\n",
       "    </tr>\n",
       "  </thead>\n",
       "  <tbody>\n",
       "    <tr>\n",
       "      <th>Charles Schwab 87-97</th>\n",
       "      <td>2.3372</td>\n",
       "      <td>0.4210</td>\n",
       "    </tr>\n",
       "    <tr>\n",
       "      <th>Quick &amp; Reilly 84-97</th>\n",
       "      <td>2.1798</td>\n",
       "      <td>0.4739</td>\n",
       "    </tr>\n",
       "    <tr>\n",
       "      <th>Waterhouse Investor 87-96</th>\n",
       "      <td>1.4020</td>\n",
       "      <td>0.1085</td>\n",
       "    </tr>\n",
       "    <tr>\n",
       "      <th>AG Edwards 84-97</th>\n",
       "      <td>1.8372</td>\n",
       "      <td>0.5549</td>\n",
       "    </tr>\n",
       "    <tr>\n",
       "      <th>Raymond James 84-97</th>\n",
       "      <td>1.6749</td>\n",
       "      <td>0.4180</td>\n",
       "    </tr>\n",
       "  </tbody>\n",
       "</table>\n",
       "</div>"
      ],
      "text/plain": [
       "                             Beta  RSquared\n",
       "Charles Schwab 87-97       2.3372    0.4210\n",
       "Quick & Reilly 84-97       2.1798    0.4739\n",
       "Waterhouse Investor 87-96  1.4020    0.1085\n",
       "AG Edwards 84-97           1.8372    0.5549\n",
       "Raymond James 84-97        1.6749    0.4180"
      ]
     },
     "metadata": {},
     "output_type": "display_data"
    },
    {
     "data": {
      "text/html": [
       "<div>\n",
       "<style scoped>\n",
       "    .dataframe tbody tr th:only-of-type {\n",
       "        vertical-align: middle;\n",
       "    }\n",
       "\n",
       "    .dataframe tbody tr th {\n",
       "        vertical-align: top;\n",
       "    }\n",
       "\n",
       "    .dataframe thead th {\n",
       "        text-align: right;\n",
       "    }\n",
       "</style>\n",
       "<table border=\"1\" class=\"dataframe\">\n",
       "  <thead>\n",
       "    <tr style=\"text-align: right;\">\n",
       "      <th></th>\n",
       "      <th>Beta</th>\n",
       "    </tr>\n",
       "  </thead>\n",
       "  <tbody>\n",
       "    <tr>\n",
       "      <th>AMERITRADE (w/out investment firms)</th>\n",
       "      <td>1.9730</td>\n",
       "    </tr>\n",
       "    <tr>\n",
       "      <th>AMERITRADE (with investment firms)</th>\n",
       "      <td>1.8862</td>\n",
       "    </tr>\n",
       "  </tbody>\n",
       "</table>\n",
       "</div>"
      ],
      "text/plain": [
       "                                       Beta\n",
       "AMERITRADE (w/out investment firms)  1.9730\n",
       "AMERITRADE (with investment firms)   1.8862"
      ]
     },
     "metadata": {},
     "output_type": "display_data"
    },
    {
     "data": {
      "text/html": [
       "<div>\n",
       "<style scoped>\n",
       "    .dataframe tbody tr th:only-of-type {\n",
       "        vertical-align: middle;\n",
       "    }\n",
       "\n",
       "    .dataframe tbody tr th {\n",
       "        vertical-align: top;\n",
       "    }\n",
       "\n",
       "    .dataframe thead th {\n",
       "        text-align: right;\n",
       "    }\n",
       "</style>\n",
       "<table border=\"1\" class=\"dataframe\">\n",
       "  <thead>\n",
       "    <tr style=\"text-align: right;\">\n",
       "      <th></th>\n",
       "      <th>Small cap = 17.8%</th>\n",
       "      <th>Mid cap = 15.9%</th>\n",
       "      <th>Large cap = 14.0%</th>\n",
       "    </tr>\n",
       "  </thead>\n",
       "  <tbody>\n",
       "    <tr>\n",
       "      <th>Cost of Capital (w/out investment firms)</th>\n",
       "      <td>0.2895</td>\n",
       "      <td>0.2520</td>\n",
       "      <td>0.2145</td>\n",
       "    </tr>\n",
       "    <tr>\n",
       "      <th>Cost of capital (with investment firms)</th>\n",
       "      <td>0.2796</td>\n",
       "      <td>0.2437</td>\n",
       "      <td>0.2079</td>\n",
       "    </tr>\n",
       "  </tbody>\n",
       "</table>\n",
       "</div>"
      ],
      "text/plain": [
       "                                          Small cap = 17.8%  Mid cap = 15.9%  \\\n",
       "Cost of Capital (w/out investment firms)             0.2895           0.2520   \n",
       "Cost of capital (with investment firms)              0.2796           0.2437   \n",
       "\n",
       "                                          Large cap = 14.0%  \n",
       "Cost of Capital (w/out investment firms)             0.2145  \n",
       "Cost of capital (with investment firms)              0.2079  "
      ]
     },
     "metadata": {},
     "output_type": "display_data"
    }
   ],
   "source": [
    "display(RESULTS)\n",
    "display(AMERITRADE)\n",
    "display(Expected_Returns)\n",
    "RESULTS.to_csv('RESULTS')\n",
    "AMERITRADE.to_csv('AMERITRADE')\n",
    "Expected_Returns.to_csv('Expected_Returns')\n",
    "# RESULTS.savefig('Beta and RSquared.png', dpi=1080)\n",
    "# AMERITRADE.savefig('Ameritrade Beta.png', dpi=1080)\n",
    "# Expected_Returns.savefig(' Amderitrade Cost of Capital.png', dpi=1080)\n"
   ]
  },
  {
   "cell_type": "code",
   "execution_count": null,
   "metadata": {},
   "outputs": [],
   "source": []
  }
 ],
 "metadata": {
  "kernelspec": {
   "display_name": "Python 3",
   "language": "python",
   "name": "python3"
  },
  "language_info": {
   "codemirror_mode": {
    "name": "ipython",
    "version": 3
   },
   "file_extension": ".py",
   "mimetype": "text/x-python",
   "name": "python",
   "nbconvert_exporter": "python",
   "pygments_lexer": "ipython3",
   "version": "3.6.6"
  }
 },
 "nbformat": 4,
 "nbformat_minor": 2
}
